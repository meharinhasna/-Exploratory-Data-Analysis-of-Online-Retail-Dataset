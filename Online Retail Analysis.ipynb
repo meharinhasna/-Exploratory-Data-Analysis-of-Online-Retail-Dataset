{
 "cells": [
  {
   "cell_type": "code",
   "execution_count": 3,
   "id": "29692044-ec98-4954-b217-2cd8340032fc",
   "metadata": {},
   "outputs": [],
   "source": [
    "# import libery\n",
    "import pandas as pd , numpy as np , matplotlib.pyplot as plt , seaborn as sns , warnings\n",
    "warnings.filterwarnings(\"ignore\")"
   ]
  },
  {
   "cell_type": "code",
   "execution_count": 4,
   "id": "5992586a",
   "metadata": {},
   "outputs": [
    {
     "data": {
      "text/html": [
       "<div>\n",
       "<style scoped>\n",
       "    .dataframe tbody tr th:only-of-type {\n",
       "        vertical-align: middle;\n",
       "    }\n",
       "\n",
       "    .dataframe tbody tr th {\n",
       "        vertical-align: top;\n",
       "    }\n",
       "\n",
       "    .dataframe thead th {\n",
       "        text-align: right;\n",
       "    }\n",
       "</style>\n",
       "<table border=\"1\" class=\"dataframe\">\n",
       "  <thead>\n",
       "    <tr style=\"text-align: right;\">\n",
       "      <th></th>\n",
       "      <th>Invoice</th>\n",
       "      <th>StockCode</th>\n",
       "      <th>Description</th>\n",
       "      <th>Quantity</th>\n",
       "      <th>InvoiceDate</th>\n",
       "      <th>Price</th>\n",
       "      <th>Customer ID</th>\n",
       "      <th>Country</th>\n",
       "    </tr>\n",
       "  </thead>\n",
       "  <tbody>\n",
       "    <tr>\n",
       "      <th>0</th>\n",
       "      <td>489434</td>\n",
       "      <td>85048</td>\n",
       "      <td>15CM CHRISTMAS GLASS BALL 20 LIGHTS</td>\n",
       "      <td>12</td>\n",
       "      <td>2009-12-01 07:45:00</td>\n",
       "      <td>6.95</td>\n",
       "      <td>13085.0</td>\n",
       "      <td>United Kingdom</td>\n",
       "    </tr>\n",
       "    <tr>\n",
       "      <th>1</th>\n",
       "      <td>489434</td>\n",
       "      <td>79323P</td>\n",
       "      <td>PINK CHERRY LIGHTS</td>\n",
       "      <td>12</td>\n",
       "      <td>2009-12-01 07:45:00</td>\n",
       "      <td>6.75</td>\n",
       "      <td>13085.0</td>\n",
       "      <td>United Kingdom</td>\n",
       "    </tr>\n",
       "    <tr>\n",
       "      <th>2</th>\n",
       "      <td>489434</td>\n",
       "      <td>79323W</td>\n",
       "      <td>WHITE CHERRY LIGHTS</td>\n",
       "      <td>12</td>\n",
       "      <td>2009-12-01 07:45:00</td>\n",
       "      <td>6.75</td>\n",
       "      <td>13085.0</td>\n",
       "      <td>United Kingdom</td>\n",
       "    </tr>\n",
       "    <tr>\n",
       "      <th>3</th>\n",
       "      <td>489434</td>\n",
       "      <td>22041</td>\n",
       "      <td>RECORD FRAME 7\" SINGLE SIZE</td>\n",
       "      <td>48</td>\n",
       "      <td>2009-12-01 07:45:00</td>\n",
       "      <td>2.10</td>\n",
       "      <td>13085.0</td>\n",
       "      <td>United Kingdom</td>\n",
       "    </tr>\n",
       "    <tr>\n",
       "      <th>4</th>\n",
       "      <td>489434</td>\n",
       "      <td>21232</td>\n",
       "      <td>STRAWBERRY CERAMIC TRINKET BOX</td>\n",
       "      <td>24</td>\n",
       "      <td>2009-12-01 07:45:00</td>\n",
       "      <td>1.25</td>\n",
       "      <td>13085.0</td>\n",
       "      <td>United Kingdom</td>\n",
       "    </tr>\n",
       "  </tbody>\n",
       "</table>\n",
       "</div>"
      ],
      "text/plain": [
       "  Invoice StockCode                          Description  Quantity  \\\n",
       "0  489434     85048  15CM CHRISTMAS GLASS BALL 20 LIGHTS        12   \n",
       "1  489434    79323P                   PINK CHERRY LIGHTS        12   \n",
       "2  489434    79323W                  WHITE CHERRY LIGHTS        12   \n",
       "3  489434     22041         RECORD FRAME 7\" SINGLE SIZE         48   \n",
       "4  489434     21232       STRAWBERRY CERAMIC TRINKET BOX        24   \n",
       "\n",
       "          InvoiceDate  Price  Customer ID         Country  \n",
       "0 2009-12-01 07:45:00   6.95      13085.0  United Kingdom  \n",
       "1 2009-12-01 07:45:00   6.75      13085.0  United Kingdom  \n",
       "2 2009-12-01 07:45:00   6.75      13085.0  United Kingdom  \n",
       "3 2009-12-01 07:45:00   2.10      13085.0  United Kingdom  \n",
       "4 2009-12-01 07:45:00   1.25      13085.0  United Kingdom  "
      ]
     },
     "execution_count": 4,
     "metadata": {},
     "output_type": "execute_result"
    }
   ],
   "source": [
    "# Load Dataset\n",
    "df = pd.read_excel ('online_retail.xlsx')\n",
    "df.head()"
   ]
  },
  {
   "cell_type": "code",
   "execution_count": 5,
   "id": "99c5476b-f51d-4e2e-930f-474efed585f9",
   "metadata": {
    "scrolled": true
   },
   "outputs": [
    {
     "data": {
      "text/plain": [
       "(525461, 8)"
      ]
     },
     "execution_count": 5,
     "metadata": {},
     "output_type": "execute_result"
    }
   ],
   "source": [
    "# check Dataset row and colums \n",
    "df.shape"
   ]
  },
  {
   "cell_type": "code",
   "execution_count": 6,
   "id": "f94ada00-434a-404d-9432-a31c14986607",
   "metadata": {},
   "outputs": [
    {
     "name": "stdout",
     "output_type": "stream",
     "text": [
      "<class 'pandas.core.frame.DataFrame'>\n",
      "RangeIndex: 525461 entries, 0 to 525460\n",
      "Data columns (total 8 columns):\n",
      " #   Column       Non-Null Count   Dtype         \n",
      "---  ------       --------------   -----         \n",
      " 0   Invoice      525461 non-null  object        \n",
      " 1   StockCode    525461 non-null  object        \n",
      " 2   Description  522533 non-null  object        \n",
      " 3   Quantity     525461 non-null  int64         \n",
      " 4   InvoiceDate  525461 non-null  datetime64[ns]\n",
      " 5   Price        525461 non-null  float64       \n",
      " 6   Customer ID  417534 non-null  float64       \n",
      " 7   Country      525461 non-null  object        \n",
      "dtypes: datetime64[ns](1), float64(2), int64(1), object(4)\n",
      "memory usage: 32.1+ MB\n"
     ]
    }
   ],
   "source": [
    "# Check Data set some information\n",
    "df.info()"
   ]
  },
  {
   "cell_type": "code",
   "execution_count": 7,
   "id": "a2160d40-feff-4c30-95bf-d7c49ad9ab60",
   "metadata": {},
   "outputs": [
    {
     "data": {
      "text/plain": [
       "Invoice             0\n",
       "StockCode           0\n",
       "Description      2928\n",
       "Quantity            0\n",
       "InvoiceDate         0\n",
       "Price               0\n",
       "Customer ID    107927\n",
       "Country             0\n",
       "dtype: int64"
      ]
     },
     "execution_count": 7,
     "metadata": {},
     "output_type": "execute_result"
    }
   ],
   "source": [
    "# check dataset null value\n",
    "df.isnull().sum()"
   ]
  },
  {
   "cell_type": "code",
   "execution_count": 8,
   "id": "109ce26d-2b00-430b-8242-5c738c957f84",
   "metadata": {},
   "outputs": [],
   "source": [
    "# fill null value \n",
    "df['Customer ID'].fillna ( df['Customer ID'].ffill(), inplace= True)"
   ]
  },
  {
   "cell_type": "code",
   "execution_count": 9,
   "id": "fe75534a-3021-4f09-bf51-4e81f2d35aef",
   "metadata": {},
   "outputs": [],
   "source": [
    "# Convert datatime\n",
    "df['InvoiceDate'] = pd.to_datetime(df['InvoiceDate'])"
   ]
  },
  {
   "cell_type": "code",
   "execution_count": 10,
   "id": "987d6490-bb5e-4db4-927e-c1bd041f4eaa",
   "metadata": {},
   "outputs": [],
   "source": [
    "# fill null value \n",
    "df['Description'].fillna ('Unknown' , inplace = True)"
   ]
  },
  {
   "cell_type": "markdown",
   "id": "2e0e8de1-f122-4060-9312-a327196abaf6",
   "metadata": {},
   "source": [
    "# Data Analysis\n"
   ]
  },
  {
   "cell_type": "markdown",
   "id": "6b1e1cb9-737c-48d5-ba7a-68fdf098a1e1",
   "metadata": {},
   "source": [
    "<h3>1) What were the total sales and income per month?</h3>"
   ]
  },
  {
   "cell_type": "code",
   "execution_count": 11,
   "id": "e7bacb86-c676-4f1d-9a37-8285c17076fe",
   "metadata": {},
   "outputs": [],
   "source": [
    "df['YearMonth'] = df['InvoiceDate'].dt.to_period('M')"
   ]
  },
  {
   "cell_type": "code",
   "execution_count": 12,
   "id": "4104a249-f334-4bce-8ae9-d1722acd129e",
   "metadata": {},
   "outputs": [],
   "source": [
    "monthly_sales = df.groupby('YearMonth').agg(\n",
    "    Total_Quantity=('Quantity', 'sum'),\n",
    "    Total_Income=('Price', 'sum')\n",
    ").reset_index()"
   ]
  },
  {
   "cell_type": "code",
   "execution_count": 13,
   "id": "6da185fa-fc1c-4ff2-b02e-5ff605773d54",
   "metadata": {},
   "outputs": [
    {
     "data": {
      "text/html": [
       "<div>\n",
       "<style scoped>\n",
       "    .dataframe tbody tr th:only-of-type {\n",
       "        vertical-align: middle;\n",
       "    }\n",
       "\n",
       "    .dataframe tbody tr th {\n",
       "        vertical-align: top;\n",
       "    }\n",
       "\n",
       "    .dataframe thead th {\n",
       "        text-align: right;\n",
       "    }\n",
       "</style>\n",
       "<table border=\"1\" class=\"dataframe\">\n",
       "  <thead>\n",
       "    <tr style=\"text-align: right;\">\n",
       "      <th></th>\n",
       "      <th>YearMonth</th>\n",
       "      <th>Total_Quantity</th>\n",
       "      <th>Total_Income</th>\n",
       "    </tr>\n",
       "  </thead>\n",
       "  <tbody>\n",
       "    <tr>\n",
       "      <th>0</th>\n",
       "      <td>2009-12</td>\n",
       "      <td>420088</td>\n",
       "      <td>198307.760</td>\n",
       "    </tr>\n",
       "    <tr>\n",
       "      <th>1</th>\n",
       "      <td>2010-01</td>\n",
       "      <td>375363</td>\n",
       "      <td>165671.362</td>\n",
       "    </tr>\n",
       "    <tr>\n",
       "      <th>2</th>\n",
       "      <td>2010-02</td>\n",
       "      <td>368402</td>\n",
       "      <td>116774.536</td>\n",
       "    </tr>\n",
       "    <tr>\n",
       "      <th>3</th>\n",
       "      <td>2010-03</td>\n",
       "      <td>489370</td>\n",
       "      <td>268304.241</td>\n",
       "    </tr>\n",
       "    <tr>\n",
       "      <th>4</th>\n",
       "      <td>2010-04</td>\n",
       "      <td>351971</td>\n",
       "      <td>120708.372</td>\n",
       "    </tr>\n",
       "    <tr>\n",
       "      <th>5</th>\n",
       "      <td>2010-05</td>\n",
       "      <td>364095</td>\n",
       "      <td>142885.530</td>\n",
       "    </tr>\n",
       "    <tr>\n",
       "      <th>6</th>\n",
       "      <td>2010-06</td>\n",
       "      <td>388253</td>\n",
       "      <td>234869.690</td>\n",
       "    </tr>\n",
       "    <tr>\n",
       "      <th>7</th>\n",
       "      <td>2010-07</td>\n",
       "      <td>302201</td>\n",
       "      <td>100650.900</td>\n",
       "    </tr>\n",
       "    <tr>\n",
       "      <th>8</th>\n",
       "      <td>2010-08</td>\n",
       "      <td>451803</td>\n",
       "      <td>157778.090</td>\n",
       "    </tr>\n",
       "    <tr>\n",
       "      <th>9</th>\n",
       "      <td>2010-09</td>\n",
       "      <td>478262</td>\n",
       "      <td>223763.221</td>\n",
       "    </tr>\n",
       "    <tr>\n",
       "      <th>10</th>\n",
       "      <td>2010-10</td>\n",
       "      <td>601729</td>\n",
       "      <td>265973.340</td>\n",
       "    </tr>\n",
       "    <tr>\n",
       "      <th>11</th>\n",
       "      <td>2010-11</td>\n",
       "      <td>673856</td>\n",
       "      <td>301913.862</td>\n",
       "    </tr>\n",
       "    <tr>\n",
       "      <th>12</th>\n",
       "      <td>2010-12</td>\n",
       "      <td>166648</td>\n",
       "      <td>166198.750</td>\n",
       "    </tr>\n",
       "  </tbody>\n",
       "</table>\n",
       "</div>"
      ],
      "text/plain": [
       "   YearMonth  Total_Quantity  Total_Income\n",
       "0    2009-12          420088    198307.760\n",
       "1    2010-01          375363    165671.362\n",
       "2    2010-02          368402    116774.536\n",
       "3    2010-03          489370    268304.241\n",
       "4    2010-04          351971    120708.372\n",
       "5    2010-05          364095    142885.530\n",
       "6    2010-06          388253    234869.690\n",
       "7    2010-07          302201    100650.900\n",
       "8    2010-08          451803    157778.090\n",
       "9    2010-09          478262    223763.221\n",
       "10   2010-10          601729    265973.340\n",
       "11   2010-11          673856    301913.862\n",
       "12   2010-12          166648    166198.750"
      ]
     },
     "execution_count": 13,
     "metadata": {},
     "output_type": "execute_result"
    }
   ],
   "source": [
    "monthly_sales"
   ]
  },
  {
   "cell_type": "code",
   "execution_count": 14,
   "id": "2cd33c91-107a-429f-83ac-71a8731734c2",
   "metadata": {},
   "outputs": [],
   "source": [
    "monthly_sales = df.groupby('YearMonth').agg(\n",
    "    Total_Sales =('Quantity','sum'),\n",
    "    Total_Income =('Price','sum')\n",
    ").reset_index()"
   ]
  },
  {
   "cell_type": "code",
   "execution_count": 15,
   "id": "b51aaab5-bf35-4584-b271-5d1224245b75",
   "metadata": {},
   "outputs": [],
   "source": [
    "monthly_sales['YearMonth'] = monthly_sales['YearMonth'].dt.to_timestamp()"
   ]
  },
  {
   "cell_type": "code",
   "execution_count": 16,
   "id": "e2e1dca2-4105-49a6-b466-f4d86a8a0f6b",
   "metadata": {},
   "outputs": [
    {
     "name": "stdout",
     "output_type": "stream",
     "text": [
      "<class 'pandas.core.frame.DataFrame'>\n",
      "RangeIndex: 13 entries, 0 to 12\n",
      "Data columns (total 3 columns):\n",
      " #   Column        Non-Null Count  Dtype         \n",
      "---  ------        --------------  -----         \n",
      " 0   YearMonth     13 non-null     datetime64[ns]\n",
      " 1   Total_Sales   13 non-null     int64         \n",
      " 2   Total_Income  13 non-null     float64       \n",
      "dtypes: datetime64[ns](1), float64(1), int64(1)\n",
      "memory usage: 444.0 bytes\n"
     ]
    }
   ],
   "source": [
    "monthly_sales.info()"
   ]
  },
  {
   "cell_type": "markdown",
   "id": "753f94e5",
   "metadata": {},
   "source": [
    "<h3>Total Sales Per Month Line Chart</h3>"
   ]
  },
  {
   "cell_type": "code",
   "execution_count": 17,
   "id": "4afdec09-51f7-4bf9-ab5e-2cb54f547975",
   "metadata": {},
   "outputs": [
    {
     "data": {
      "image/png": "[encoded data removed]",
      "text/plain": [
       "<Figure size 800x600 with 1 Axes>"
      ]
     },
     "metadata": {},
     "output_type": "display_data"
    }
   ],
   "source": [
    "plt.figure(figsize=(8,6))\n",
    "sns.lineplot(monthly_sales, x = 'YearMonth' , y = 'Total_Sales' , color = '#7CB9E8')\n",
    "plt.scatter(monthly_sales['YearMonth'] , monthly_sales['Total_Sales'] , color = '#87CEEB')\n",
    "plt.title('Total Sales Per Month')\n",
    "plt.xlabel('Year Month')\n",
    "plt.ylabel('Total Sales')\n",
    "plt.show()"
   ]
  },
  {
   "cell_type": "markdown",
   "id": "9bc8e913",
   "metadata": {},
   "source": [
    "<h3>Total Income Per Month Line Chart</h3>"
   ]
  },
  {
   "cell_type": "code",
   "execution_count": 18,
   "id": "4cb9f1d0-c147-4f46-858e-392cf4ac7b52",
   "metadata": {},
   "outputs": [
    {
     "data": {
      "image/png": "[encoded data removed]",
      "text/plain": [
       "<Figure size 800x600 with 1 Axes>"
      ]
     },
     "metadata": {},
     "output_type": "display_data"
    }
   ],
   "source": [
    "plt.figure(figsize=(8,6))\n",
    "sns.lineplot(monthly_sales, x = 'YearMonth' , y = 'Total_Income' , color = '#7CB9E8')\n",
    "plt.scatter(monthly_sales['YearMonth'] , monthly_sales['Total_Income'] , color = '#87CEEB')\n",
    "plt.title('Total Income Per Month')\n",
    "plt.xlabel('Year Month')\n",
    "plt.ylabel('Total_Income')\n",
    "plt.show()"
   ]
  },
  {
   "cell_type": "markdown",
   "id": "a29954d6-25f2-4c29-8592-27beb8c2032a",
   "metadata": {},
   "source": [
    "<h3>2)Which month has the highest income?</h3>"
   ]
  },
  {
   "cell_type": "code",
   "execution_count": 19,
   "id": "ee980045-dd61-4c65-8cc3-e60997828d79",
   "metadata": {},
   "outputs": [],
   "source": [
    "df['Total Income'] = df['Quantity'] * df['Price']"
   ]
  },
  {
   "cell_type": "code",
   "execution_count": 20,
   "id": "48e1a27d-801c-4504-b72e-1447eacfca7d",
   "metadata": {},
   "outputs": [],
   "source": [
    "month_of_highest_income = df.groupby('YearMonth')[['Total Income']].sum()"
   ]
  },
  {
   "cell_type": "code",
   "execution_count": 21,
   "id": "e4a551a6-b697-46ec-9e53-bdf223164e42",
   "metadata": {},
   "outputs": [
    {
     "data": {
      "text/plain": [
       "Total Income    2010-11\n",
       "dtype: period[M]"
      ]
     },
     "execution_count": 21,
     "metadata": {},
     "output_type": "execute_result"
    }
   ],
   "source": [
    "month_of_highest_income.idxmax()"
   ]
  },
  {
   "cell_type": "code",
   "execution_count": 22,
   "id": "5f5991e6-d22e-4db2-bcc7-09a1806268a7",
   "metadata": {},
   "outputs": [
    {
     "data": {
      "text/html": [
       "<div>\n",
       "<style scoped>\n",
       "    .dataframe tbody tr th:only-of-type {\n",
       "        vertical-align: middle;\n",
       "    }\n",
       "\n",
       "    .dataframe tbody tr th {\n",
       "        vertical-align: top;\n",
       "    }\n",
       "\n",
       "    .dataframe thead th {\n",
       "        text-align: right;\n",
       "    }\n",
       "</style>\n",
       "<table border=\"1\" class=\"dataframe\">\n",
       "  <thead>\n",
       "    <tr style=\"text-align: right;\">\n",
       "      <th></th>\n",
       "      <th>Total Income</th>\n",
       "    </tr>\n",
       "    <tr>\n",
       "      <th>YearMonth</th>\n",
       "      <th></th>\n",
       "    </tr>\n",
       "  </thead>\n",
       "  <tbody>\n",
       "    <tr>\n",
       "      <th>2010-11</th>\n",
       "      <td>1422654.642</td>\n",
       "    </tr>\n",
       "  </tbody>\n",
       "</table>\n",
       "</div>"
      ],
      "text/plain": [
       "           Total Income\n",
       "YearMonth              \n",
       "2010-11     1422654.642"
      ]
     },
     "execution_count": 22,
     "metadata": {},
     "output_type": "execute_result"
    }
   ],
   "source": [
    "# Showing the highest income period for both months and total income\n",
    "month_of_highest_income.loc[month_of_highest_income.idxmax()]"
   ]
  },
  {
   "cell_type": "markdown",
   "id": "290680f2",
   "metadata": {},
   "source": [
    "<h3>Highest monthly income Plot</h3>"
   ]
  },
  {
   "cell_type": "code",
   "execution_count": 23,
   "id": "ca2de838-f1d3-4a9f-a9fb-f0d000eb83a3",
   "metadata": {},
   "outputs": [
    {
     "data": {
      "image/png": "[encoded data removed]",
      "text/plain": [
       "<Figure size 1000x600 with 1 Axes>"
      ]
     },
     "metadata": {},
     "output_type": "display_data"
    }
   ],
   "source": [
    "data = month_of_highest_income.plot(kind = 'bar' , color = 'skyblue' , figsize=(10,6))\n",
    "plt.title('Highest monthly income', fontsize = 15)\n",
    "plt.xlabel('YearMonth' , fontsize = 13 )\n",
    "plt.ylabel('Total Income' , fontsize = 13)\n",
    "plt.xticks(rotation = 45)\n",
    "for i in data.containers:\n",
    "    data.bar_label(i)\n",
    "plt.tight_layout()\n",
    "plt.show()"
   ]
  },
  {
   "cell_type": "markdown",
   "id": "6d96ea08-7772-45c9-b3c6-d74e6576d691",
   "metadata": {},
   "source": [
    "<h3>3) What day of the week costs the most?</h3>"
   ]
  },
  {
   "cell_type": "code",
   "execution_count": 24,
   "id": "1afe3709-fcfb-46a3-af47-3077706bd6fa",
   "metadata": {},
   "outputs": [],
   "source": [
    "df['Data of Week'] = df['InvoiceDate'].dt.day_name()"
   ]
  },
  {
   "cell_type": "code",
   "execution_count": 25,
   "id": "0c5d42d2-5f53-43e0-801b-e47340ea8e9a",
   "metadata": {},
   "outputs": [],
   "source": [
    "day_of_highest_income = df.groupby('Data of Week')[['Total Income']].sum()"
   ]
  },
  {
   "cell_type": "code",
   "execution_count": 26,
   "id": "86f2f93d-1414-49a0-8686-88cc5051511a",
   "metadata": {},
   "outputs": [
    {
     "data": {
      "text/html": [
       "<div>\n",
       "<style scoped>\n",
       "    .dataframe tbody tr th:only-of-type {\n",
       "        vertical-align: middle;\n",
       "    }\n",
       "\n",
       "    .dataframe tbody tr th {\n",
       "        vertical-align: top;\n",
       "    }\n",
       "\n",
       "    .dataframe thead th {\n",
       "        text-align: right;\n",
       "    }\n",
       "</style>\n",
       "<table border=\"1\" class=\"dataframe\">\n",
       "  <thead>\n",
       "    <tr style=\"text-align: right;\">\n",
       "      <th></th>\n",
       "      <th>Total Income</th>\n",
       "    </tr>\n",
       "    <tr>\n",
       "      <th>Data of Week</th>\n",
       "      <th></th>\n",
       "    </tr>\n",
       "  </thead>\n",
       "  <tbody>\n",
       "    <tr>\n",
       "      <th>Thursday</th>\n",
       "      <td>1882513.012</td>\n",
       "    </tr>\n",
       "  </tbody>\n",
       "</table>\n",
       "</div>"
      ],
      "text/plain": [
       "              Total Income\n",
       "Data of Week              \n",
       "Thursday       1882513.012"
      ]
     },
     "execution_count": 26,
     "metadata": {},
     "output_type": "execute_result"
    }
   ],
   "source": [
    "day_of_highest_income.loc[day_of_highest_income.idxmax()]"
   ]
  },
  {
   "cell_type": "markdown",
   "id": "8dd0a2be",
   "metadata": {},
   "source": [
    "<h3>The most expensive day of the week</h3>"
   ]
  },
  {
   "cell_type": "code",
   "execution_count": 27,
   "id": "76216063-5760-4498-8a3d-c135e376f1e0",
   "metadata": {},
   "outputs": [
    {
     "data": {
      "image/png": "[encoded data removed]",
      "text/plain": [
       "<Figure size 900x500 with 1 Axes>"
      ]
     },
     "metadata": {},
     "output_type": "display_data"
    }
   ],
   "source": [
    "data = day_of_highest_income.plot(kind = 'bar' , color = 'skyblue',figsize = (9,5), edgecolor = 'black')\n",
    "plt.ylabel('Total Income', fontsize = 13)\n",
    "plt.xlabel('Week' , fontsize = 13)\n",
    "plt.xticks(rotation=0)\n",
    "plt.title('The most expensive day of the week' , fontsize = 15)\n",
    "for i in data.containers:\n",
    "    data.bar_label(i)\n",
    "lef = plt.legend(loc=\"upper left\")\n",
    "lef.remove()\n",
    "plt.show()"
   ]
  },
  {
   "cell_type": "markdown",
   "id": "428a9dfd-bf71-44b5-ae7e-35d7b712f82e",
   "metadata": {},
   "source": [
    "<h3>4) Which customer made the most purchases?</h3>"
   ]
  },
  {
   "cell_type": "code",
   "execution_count": 28,
   "id": "7d84f924-60bd-4077-b34e-a61e198abe35",
   "metadata": {},
   "outputs": [
    {
     "data": {
      "text/plain": [
       "Customer ID\n",
       "14911.0    6801\n",
       "Name: count, dtype: int64"
      ]
     },
     "execution_count": 28,
     "metadata": {},
     "output_type": "execute_result"
    }
   ],
   "source": [
    "df['Customer ID'].value_counts().head(1)"
   ]
  },
  {
   "cell_type": "markdown",
   "id": "f784f648-3102-4d9a-81f7-7efe6e56d06f",
   "metadata": {},
   "source": [
    "<h3>5) Average price per order</h3>"
   ]
  },
  {
   "cell_type": "code",
   "execution_count": null,
   "id": "f3e6434a-33f3-4b82-8122-f843479a0efc",
   "metadata": {},
   "outputs": [
    {
     "name": "stdout",
     "output_type": "stream",
     "text": [
      "Average price per order: 18.15\n"
     ]
    }
   ],
   "source": [
    "print('Average price per order:' , round(df['Total Income'].mean(),2))"
   ]
  },
  {
   "cell_type": "markdown",
   "id": "d69df9f8-fdb5-4c7f-925c-874b1bec417d",
   "metadata": {},
   "source": [
    "<h3>6) Which country received the most orders?</h3>"
   ]
  },
  {
   "cell_type": "code",
   "execution_count": 30,
   "id": "610f9a92-bf0e-4ea2-8b19-432fbdb8be7e",
   "metadata": {},
   "outputs": [
    {
     "data": {
      "text/plain": [
       "Country\n",
       "United Kingdom    485852\n",
       "Name: count, dtype: int64"
      ]
     },
     "execution_count": 30,
     "metadata": {},
     "output_type": "execute_result"
    }
   ],
   "source": [
    "df['Country'].value_counts().head(1)"
   ]
  },
  {
   "cell_type": "markdown",
   "id": "c652bafb-9217-457e-9812-eebb3ce5d8bd",
   "metadata": {},
   "source": [
    "<h3>7) Which product sold the most?</h3>"
   ]
  },
  {
   "cell_type": "code",
   "execution_count": 31,
   "id": "b98d2be1-a86c-4f00-8aad-afd03790d7a7",
   "metadata": {},
   "outputs": [
    {
     "data": {
      "text/plain": [
       "Description\n",
       "WHITE HANGING HEART T-LIGHT HOLDER    3549\n",
       "Name: count, dtype: int64"
      ]
     },
     "execution_count": 31,
     "metadata": {},
     "output_type": "execute_result"
    }
   ],
   "source": [
    "df['Description'].value_counts().head(1)"
   ]
  },
  {
   "cell_type": "markdown",
   "id": "4ad94ea6-deb7-436c-811b-289ee4cadf8a",
   "metadata": {},
   "source": [
    "<h3>8) Which product generated the most revenue?</h3>"
   ]
  },
  {
   "cell_type": "code",
   "execution_count": 32,
   "id": "f7b9884e-5d25-4177-9f8b-10cddd3ae053",
   "metadata": {},
   "outputs": [
    {
     "data": {
      "text/html": [
       "<div>\n",
       "<style scoped>\n",
       "    .dataframe tbody tr th:only-of-type {\n",
       "        vertical-align: middle;\n",
       "    }\n",
       "\n",
       "    .dataframe tbody tr th {\n",
       "        vertical-align: top;\n",
       "    }\n",
       "\n",
       "    .dataframe thead th {\n",
       "        text-align: right;\n",
       "    }\n",
       "</style>\n",
       "<table border=\"1\" class=\"dataframe\">\n",
       "  <thead>\n",
       "    <tr style=\"text-align: right;\">\n",
       "      <th></th>\n",
       "      <th>Total Income</th>\n",
       "    </tr>\n",
       "    <tr>\n",
       "      <th>Description</th>\n",
       "      <th></th>\n",
       "    </tr>\n",
       "  </thead>\n",
       "  <tbody>\n",
       "    <tr>\n",
       "      <th>REGENCY CAKESTAND 3 TIER</th>\n",
       "      <td>163051.46</td>\n",
       "    </tr>\n",
       "  </tbody>\n",
       "</table>\n",
       "</div>"
      ],
      "text/plain": [
       "                          Total Income\n",
       "Description                           \n",
       "REGENCY CAKESTAND 3 TIER     163051.46"
      ]
     },
     "execution_count": 32,
     "metadata": {},
     "output_type": "execute_result"
    }
   ],
   "source": [
    "df.groupby('Description')[['Total Income']].sum().sort_values(by = 'Total Income' , ascending = False).head(1)"
   ]
  },
  {
   "cell_type": "markdown",
   "id": "a9124cc9-0084-4224-b86f-b799ff9070cc",
   "metadata": {},
   "source": [
    "<h3>9) What time of day do you get the most orders?</h3>"
   ]
  },
  {
   "cell_type": "code",
   "execution_count": 33,
   "id": "f753a55b-9767-496d-a989-6ef9f8b2cd45",
   "metadata": {},
   "outputs": [],
   "source": [
    "df['Time'] = pd.to_datetime(df['InvoiceDate']).dt.time"
   ]
  },
  {
   "cell_type": "code",
   "execution_count": 34,
   "id": "25e99614-984e-4958-9a83-b9f97673b9a6",
   "metadata": {},
   "outputs": [],
   "source": [
    "day_of_most_order = df['Time'].value_counts().head(1)"
   ]
  },
  {
   "cell_type": "markdown",
   "id": "e741437e-836e-4187-a529-6ccf7fa6b883",
   "metadata": {},
   "source": [
    "<h3>10) What is the most returned product?</h3>"
   ]
  },
  {
   "cell_type": "code",
   "execution_count": 35,
   "id": "de7a2e9f-4020-4e11-b763-e7786d12d8b0",
   "metadata": {},
   "outputs": [],
   "source": [
    "returned_product = df[df['Quantity'] < 0]"
   ]
  },
  {
   "cell_type": "code",
   "execution_count": 36,
   "id": "425b31d9-5dad-4217-b08a-ba6e69531b93",
   "metadata": {},
   "outputs": [
    {
     "data": {
      "text/plain": [
       "Description  Quantity\n",
       "21494        -720        1\n",
       "Name: count, dtype: int64"
      ]
     },
     "execution_count": 36,
     "metadata": {},
     "output_type": "execute_result"
    }
   ],
   "source": [
    "returned_product.groupby('Description')[['Quantity']].value_counts().head(1)"
   ]
  },
  {
   "cell_type": "markdown",
   "id": "e5e63e80-0bd1-45cd-9ea5-184df7c205b9",
   "metadata": {},
   "source": [
    "<h2>11) Returned Product List</h3>"
   ]
  },
  {
   "cell_type": "code",
   "execution_count": 37,
   "id": "b847fcb1-1da8-474c-add6-a4cc95e52573",
   "metadata": {},
   "outputs": [
    {
     "data": {
      "text/html": [
       "<div>\n",
       "<style scoped>\n",
       "    .dataframe tbody tr th:only-of-type {\n",
       "        vertical-align: middle;\n",
       "    }\n",
       "\n",
       "    .dataframe tbody tr th {\n",
       "        vertical-align: top;\n",
       "    }\n",
       "\n",
       "    .dataframe thead th {\n",
       "        text-align: right;\n",
       "    }\n",
       "</style>\n",
       "<table border=\"1\" class=\"dataframe\">\n",
       "  <thead>\n",
       "    <tr style=\"text-align: right;\">\n",
       "      <th></th>\n",
       "      <th>Description</th>\n",
       "      <th>Quantity</th>\n",
       "    </tr>\n",
       "  </thead>\n",
       "  <tbody>\n",
       "    <tr>\n",
       "      <th>178</th>\n",
       "      <td>PAPER BUNTING WHITE LACE</td>\n",
       "      <td>-12</td>\n",
       "    </tr>\n",
       "    <tr>\n",
       "      <th>179</th>\n",
       "      <td>CREAM FELT EASTER EGG BASKET</td>\n",
       "      <td>-6</td>\n",
       "    </tr>\n",
       "    <tr>\n",
       "      <th>180</th>\n",
       "      <td>POTTING SHED SOW 'N' GROW SET</td>\n",
       "      <td>-4</td>\n",
       "    </tr>\n",
       "    <tr>\n",
       "      <th>181</th>\n",
       "      <td>POTTING SHED TWINE</td>\n",
       "      <td>-6</td>\n",
       "    </tr>\n",
       "    <tr>\n",
       "      <th>182</th>\n",
       "      <td>PAPER CHAIN KIT RETRO SPOT</td>\n",
       "      <td>-12</td>\n",
       "    </tr>\n",
       "    <tr>\n",
       "      <th>...</th>\n",
       "      <td>...</td>\n",
       "      <td>...</td>\n",
       "    </tr>\n",
       "    <tr>\n",
       "      <th>525231</th>\n",
       "      <td>Unknown</td>\n",
       "      <td>-18</td>\n",
       "    </tr>\n",
       "    <tr>\n",
       "      <th>525232</th>\n",
       "      <td>Unknown</td>\n",
       "      <td>-32</td>\n",
       "    </tr>\n",
       "    <tr>\n",
       "      <th>525234</th>\n",
       "      <td>Dotcom sales</td>\n",
       "      <td>-100</td>\n",
       "    </tr>\n",
       "    <tr>\n",
       "      <th>525235</th>\n",
       "      <td>Dotcom sales</td>\n",
       "      <td>-100</td>\n",
       "    </tr>\n",
       "    <tr>\n",
       "      <th>525282</th>\n",
       "      <td>SET OF 3 BLACK FLYING DUCKS</td>\n",
       "      <td>-1</td>\n",
       "    </tr>\n",
       "  </tbody>\n",
       "</table>\n",
       "<p>12326 rows × 2 columns</p>\n",
       "</div>"
      ],
      "text/plain": [
       "                          Description  Quantity\n",
       "178          PAPER BUNTING WHITE LACE       -12\n",
       "179      CREAM FELT EASTER EGG BASKET        -6\n",
       "180     POTTING SHED SOW 'N' GROW SET        -4\n",
       "181                POTTING SHED TWINE        -6\n",
       "182        PAPER CHAIN KIT RETRO SPOT       -12\n",
       "...                               ...       ...\n",
       "525231                        Unknown       -18\n",
       "525232                        Unknown       -32\n",
       "525234                   Dotcom sales      -100\n",
       "525235                   Dotcom sales      -100\n",
       "525282    SET OF 3 BLACK FLYING DUCKS        -1\n",
       "\n",
       "[12326 rows x 2 columns]"
      ]
     },
     "execution_count": 37,
     "metadata": {},
     "output_type": "execute_result"
    }
   ],
   "source": [
    "df[df['Quantity'] < 0][['Description' , 'Quantity' ]]"
   ]
  },
  {
   "cell_type": "markdown",
   "id": "9cef6351-0cce-4e72-90aa-783edee54927",
   "metadata": {},
   "source": [
    "<h2>12)How many products were returned?</h2>"
   ]
  },
  {
   "cell_type": "code",
   "execution_count": 38,
   "id": "af12ac10-2cf0-438f-bab0-d9d899323f46",
   "metadata": {},
   "outputs": [
    {
     "data": {
      "text/plain": [
       "Quantity    12326\n",
       "dtype: int64"
      ]
     },
     "execution_count": 38,
     "metadata": {},
     "output_type": "execute_result"
    }
   ],
   "source": [
    "df[df['Quantity'] < 0].count()[['Quantity']]"
   ]
  },
  {
   "cell_type": "markdown",
   "id": "b441b3e5-da26-4302-9a59-27dd90e3dbf4",
   "metadata": {},
   "source": [
    "<h2>13) At what time did the most products get returned?</h2>"
   ]
  },
  {
   "cell_type": "code",
   "execution_count": 39,
   "id": "411bf6ce-2ee7-4883-bb9b-a047b5432c0c",
   "metadata": {},
   "outputs": [],
   "source": [
    "most_products_returned = (df[df['Quantity'] < 0]['Time'].value_counts().head(8))"
   ]
  },
  {
   "cell_type": "code",
   "execution_count": 40,
   "id": "52aa2e1c-beb9-4202-9c04-6d2c2b1f6b02",
   "metadata": {},
   "outputs": [
    {
     "data": {
      "text/plain": [
       "Time\n",
       "13:36:00    81\n",
       "12:09:00    74\n",
       "11:12:00    73\n",
       "13:32:00    61\n",
       "16:12:00    59\n",
       "11:02:00    58\n",
       "12:17:00    58\n",
       "11:52:00    56\n",
       "Name: count, dtype: int64"
      ]
     },
     "execution_count": 40,
     "metadata": {},
     "output_type": "execute_result"
    }
   ],
   "source": [
    "most_products_returned"
   ]
  },
  {
   "cell_type": "markdown",
   "id": "cd36af99",
   "metadata": {},
   "source": [
    "<h3>Top 8 Return Times</h3>"
   ]
  },
  {
   "cell_type": "code",
   "execution_count": 41,
   "id": "9c9f2457-a5dc-4f26-ab79-ecae6f74906e",
   "metadata": {},
   "outputs": [
    {
     "data": {
      "image/png": "[encoded data removed]",
      "text/plain": [
       "<Figure size 640x480 with 1 Axes>"
      ]
     },
     "metadata": {},
     "output_type": "display_data"
    }
   ],
   "source": [
    "colors = ['#d891ef' ,'#d19fe8' , '#c9a0dc' ,'#dda0dd','#e6a8d7','#e79fc4' , '#d8b2d1' , '#b39eb5']\n",
    "most_products_returned.plot(kind='bar', color=colors , edgecolor = '#614051')\n",
    "plt.title('Top 8 Return Times',fontsize = 15)\n",
    "plt.xlabel('Time',fontsize = 13)\n",
    "plt.ylabel('Number of Returns Product',fontsize = 13)\n",
    "plt.xticks(rotation=35)\n",
    "plt.tight_layout()\n",
    "plt.show()\n"
   ]
  },
  {
   "cell_type": "markdown",
   "id": "db54f724-f494-4a1e-8ff1-33e4a15d0130",
   "metadata": {},
   "source": [
    "<h3>14) Seasonal sales trends</h3>"
   ]
  },
  {
   "cell_type": "code",
   "execution_count": 43,
   "id": "c3aeeb4e-ba84-446e-b4cc-15b2d5262292",
   "metadata": {},
   "outputs": [],
   "source": [
    "df['Month'] = pd.to_datetime(df['InvoiceDate']).dt.month"
   ]
  },
  {
   "cell_type": "code",
   "execution_count": 44,
   "id": "26356214-73bb-4cca-9396-22fe87945de0",
   "metadata": {},
   "outputs": [],
   "source": [
    "def season (month):\n",
    "    if month in[12,1,2]:\n",
    "        return 'Winter'\n",
    "    if month in [3,4,5]:\n",
    "        return 'Spring'\n",
    "    if month in [6,7,8]:\n",
    "        return 'Summer'\n",
    "    if month in [9,10,11]:\n",
    "        return 'Autumn (Fall)'\n",
    "    else:\n",
    "        return False\n",
    "df['Season'] = df['Month'].apply(season)"
   ]
  },
  {
   "cell_type": "code",
   "execution_count": 45,
   "id": "9b28bfeb-3697-440d-a954-e5f585a0b347",
   "metadata": {},
   "outputs": [
    {
     "name": "stdout",
     "output_type": "stream",
     "text": [
      "Season\n",
      "Autumn (Fall)    3321473.423\n",
      "Winter           2334459.878\n",
      "Spring           1971752.023\n",
      "Summer           1911799.310\n",
      "Name: Total Income, dtype: float64\n"
     ]
    }
   ],
   "source": [
    "seasonal_sales = df.groupby('Season')['Total Income'].sum().sort_values(ascending=False)\n",
    "print(seasonal_sales)"
   ]
  },
  {
   "cell_type": "markdown",
   "id": "a3aec43f",
   "metadata": {},
   "source": [
    "<h3>Seasonal Sales Trends</h3>"
   ]
  },
  {
   "cell_type": "code",
   "execution_count": 46,
   "id": "e06ca083-b8c2-4336-858d-1ada659e52b0",
   "metadata": {},
   "outputs": [
    {
     "data": {
      "image/png": "[encoded data removed]",
      "text/plain": [
       "<Figure size 800x500 with 1 Axes>"
      ]
     },
     "metadata": {},
     "output_type": "display_data"
    }
   ],
   "source": [
    "plt.figure(figsize=(8, 5))\n",
    "data = seasonal_sales.plot(kind='bar', color=['skyblue','#FFF44F','#097969','#FF5733'])\n",
    "plt.title('Seasonal Sales Trends')\n",
    "plt.xlabel('Season')\n",
    "plt.ylabel('Total Sales')\n",
    "plt.xticks(rotation=0)\n",
    "plt.grid(axis='y', linestyle='--', alpha=0.7)\n",
    "for i in data.containers:\n",
    "    data.bar_label(i)\n",
    "plt.show()\n"
   ]
  },
  {
   "cell_type": "markdown",
   "id": "b1190a93-bc19-4669-8cc6-abf5d6dc4c23",
   "metadata": {},
   "source": [
    "<H3>15) What time of year do  sell the most?</H3>"
   ]
  },
  {
   "cell_type": "code",
   "execution_count": 47,
   "id": "e4503326-1d93-4bb5-aa60-d0409aafa487",
   "metadata": {},
   "outputs": [],
   "source": [
    "sells_year = df.groupby('Month')[['Total Income']].sum().sort_values(by = 'Total Income' , ascending = False)"
   ]
  },
  {
   "cell_type": "code",
   "execution_count": 48,
   "id": "20693894-eb52-4b1a-abef-b81c7abf7b33",
   "metadata": {},
   "outputs": [
    {
     "data": {
      "text/html": [
       "<div>\n",
       "<style scoped>\n",
       "    .dataframe tbody tr th:only-of-type {\n",
       "        vertical-align: middle;\n",
       "    }\n",
       "\n",
       "    .dataframe tbody tr th {\n",
       "        vertical-align: top;\n",
       "    }\n",
       "\n",
       "    .dataframe thead th {\n",
       "        text-align: right;\n",
       "    }\n",
       "</style>\n",
       "<table border=\"1\" class=\"dataframe\">\n",
       "  <thead>\n",
       "    <tr style=\"text-align: right;\">\n",
       "      <th></th>\n",
       "      <th>Total Income</th>\n",
       "    </tr>\n",
       "    <tr>\n",
       "      <th>Month</th>\n",
       "      <th></th>\n",
       "    </tr>\n",
       "  </thead>\n",
       "  <tbody>\n",
       "    <tr>\n",
       "      <th>11</th>\n",
       "      <td>1422654.642</td>\n",
       "    </tr>\n",
       "  </tbody>\n",
       "</table>\n",
       "</div>"
      ],
      "text/plain": [
       "       Total Income\n",
       "Month              \n",
       "11      1422654.642"
      ]
     },
     "execution_count": 48,
     "metadata": {},
     "output_type": "execute_result"
    }
   ],
   "source": [
    "sells_year.head(1)"
   ]
  },
  {
   "cell_type": "markdown",
   "id": "d4fd7f8a-52f5-4a54-9e06-e103aacddaff",
   "metadata": {},
   "source": [
    "<h3>16) Relationship between sales and seasonal changes (Winter vs Summer Sales)</h3>"
   ]
  },
  {
   "cell_type": "code",
   "execution_count": 49,
   "id": "ccca839e-2b35-4664-a8d2-02f4c04b948b",
   "metadata": {},
   "outputs": [],
   "source": [
    "seasonal_sales = df[df['Season'].isin(['Winter', 'Summer'])]"
   ]
  },
  {
   "cell_type": "code",
   "execution_count": 50,
   "id": "6db5f97c-6fb9-4635-a5e0-5d250ab9b98e",
   "metadata": {},
   "outputs": [],
   "source": [
    "seasonal_sales_summary = seasonal_sales.groupby('Season')['Total Income'].sum()"
   ]
  },
  {
   "cell_type": "code",
   "execution_count": 51,
   "id": "e68dc0e1-df6b-4675-8793-1e3a44abf2c2",
   "metadata": {},
   "outputs": [
    {
     "data": {
      "image/png": "[encoded data removed]",
      "text/plain": [
       "<Figure size 1000x600 with 1 Axes>"
      ]
     },
     "metadata": {},
     "output_type": "display_data"
    }
   ],
   "source": [
    "plt.figure(figsize=(10, 6))\n",
    "data = seasonal_sales_summary.plot(kind='bar', color=['#87CEEB', '#7CB9E8'])\n",
    "plt.title('Sales Comparison: Winter vs Summer', fontsize = 15)\n",
    "plt.xlabel('Season',fontsize = 13)\n",
    "plt.ylabel('Total Income',fontsize = 13)\n",
    "plt.xticks(rotation = 0)\n",
    "for i in data.containers:\n",
    "    data.bar_label(i)\n",
    "plt.show()"
   ]
  },
  {
   "cell_type": "markdown",
   "id": "033e7a85-6d0a-4093-baef-ec653ae8ae97",
   "metadata": {},
   "source": [
    "<h3>17)Which customer is buying the most products at the highest price?</h3>"
   ]
  },
  {
   "cell_type": "code",
   "execution_count": 52,
   "id": "ef588393-4d04-455f-b7ae-92a4adafd133",
   "metadata": {},
   "outputs": [],
   "source": [
    "highest_buying_customer = df.groupby('Customer ID')[['Total Income']].sum().sort_values(by = 'Total Income' , ascending = False)"
   ]
  },
  {
   "cell_type": "code",
   "execution_count": 53,
   "id": "19b41c8b-22ac-490a-94a5-988a3076da7d",
   "metadata": {},
   "outputs": [
    {
     "data": {
      "text/html": [
       "<div>\n",
       "<style scoped>\n",
       "    .dataframe tbody tr th:only-of-type {\n",
       "        vertical-align: middle;\n",
       "    }\n",
       "\n",
       "    .dataframe tbody tr th {\n",
       "        vertical-align: top;\n",
       "    }\n",
       "\n",
       "    .dataframe thead th {\n",
       "        text-align: right;\n",
       "    }\n",
       "</style>\n",
       "<table border=\"1\" class=\"dataframe\">\n",
       "  <thead>\n",
       "    <tr style=\"text-align: right;\">\n",
       "      <th></th>\n",
       "      <th>Total Income</th>\n",
       "    </tr>\n",
       "    <tr>\n",
       "      <th>Customer ID</th>\n",
       "      <th></th>\n",
       "    </tr>\n",
       "  </thead>\n",
       "  <tbody>\n",
       "    <tr>\n",
       "      <th>18102.0</th>\n",
       "      <td>394556.69</td>\n",
       "    </tr>\n",
       "  </tbody>\n",
       "</table>\n",
       "</div>"
      ],
      "text/plain": [
       "             Total Income\n",
       "Customer ID              \n",
       "18102.0         394556.69"
      ]
     },
     "execution_count": 53,
     "metadata": {},
     "output_type": "execute_result"
    }
   ],
   "source": [
    "highest_buying_customer.head(1)"
   ]
  },
  {
   "cell_type": "code",
   "execution_count": 54,
   "id": "db58288d-5b4b-4517-b4b1-782963ab5c55",
   "metadata": {},
   "outputs": [
    {
     "data": {
      "text/html": [
       "<div>\n",
       "<style scoped>\n",
       "    .dataframe tbody tr th:only-of-type {\n",
       "        vertical-align: middle;\n",
       "    }\n",
       "\n",
       "    .dataframe tbody tr th {\n",
       "        vertical-align: top;\n",
       "    }\n",
       "\n",
       "    .dataframe thead th {\n",
       "        text-align: right;\n",
       "    }\n",
       "</style>\n",
       "<table border=\"1\" class=\"dataframe\">\n",
       "  <thead>\n",
       "    <tr style=\"text-align: right;\">\n",
       "      <th></th>\n",
       "      <th>Invoice</th>\n",
       "      <th>StockCode</th>\n",
       "      <th>Description</th>\n",
       "      <th>Quantity</th>\n",
       "      <th>InvoiceDate</th>\n",
       "      <th>Price</th>\n",
       "      <th>Customer ID</th>\n",
       "      <th>Country</th>\n",
       "      <th>YearMonth</th>\n",
       "      <th>Total Income</th>\n",
       "      <th>Data of Week</th>\n",
       "      <th>Time</th>\n",
       "      <th>Month</th>\n",
       "      <th>Season</th>\n",
       "    </tr>\n",
       "  </thead>\n",
       "  <tbody>\n",
       "    <tr>\n",
       "      <th>54</th>\n",
       "      <td>489438</td>\n",
       "      <td>21329</td>\n",
       "      <td>DINOSAURS  WRITING SET</td>\n",
       "      <td>28</td>\n",
       "      <td>2009-12-01 09:24:00</td>\n",
       "      <td>0.98</td>\n",
       "      <td>18102.0</td>\n",
       "      <td>United Kingdom</td>\n",
       "      <td>2009-12</td>\n",
       "      <td>27.44</td>\n",
       "      <td>Tuesday</td>\n",
       "      <td>09:24:00</td>\n",
       "      <td>12</td>\n",
       "      <td>Winter</td>\n",
       "    </tr>\n",
       "    <tr>\n",
       "      <th>55</th>\n",
       "      <td>489438</td>\n",
       "      <td>21252</td>\n",
       "      <td>SET OF MEADOW  FLOWER STICKERS</td>\n",
       "      <td>30</td>\n",
       "      <td>2009-12-01 09:24:00</td>\n",
       "      <td>1.69</td>\n",
       "      <td>18102.0</td>\n",
       "      <td>United Kingdom</td>\n",
       "      <td>2009-12</td>\n",
       "      <td>50.70</td>\n",
       "      <td>Tuesday</td>\n",
       "      <td>09:24:00</td>\n",
       "      <td>12</td>\n",
       "      <td>Winter</td>\n",
       "    </tr>\n",
       "    <tr>\n",
       "      <th>56</th>\n",
       "      <td>489438</td>\n",
       "      <td>21100</td>\n",
       "      <td>CHARLIE AND LOLA CHARLOTTE BAG</td>\n",
       "      <td>30</td>\n",
       "      <td>2009-12-01 09:24:00</td>\n",
       "      <td>1.15</td>\n",
       "      <td>18102.0</td>\n",
       "      <td>United Kingdom</td>\n",
       "      <td>2009-12</td>\n",
       "      <td>34.50</td>\n",
       "      <td>Tuesday</td>\n",
       "      <td>09:24:00</td>\n",
       "      <td>12</td>\n",
       "      <td>Winter</td>\n",
       "    </tr>\n",
       "    <tr>\n",
       "      <th>57</th>\n",
       "      <td>489438</td>\n",
       "      <td>21033</td>\n",
       "      <td>JUMBO BAG CHARLIE AND LOLA TOYS</td>\n",
       "      <td>30</td>\n",
       "      <td>2009-12-01 09:24:00</td>\n",
       "      <td>2.00</td>\n",
       "      <td>18102.0</td>\n",
       "      <td>United Kingdom</td>\n",
       "      <td>2009-12</td>\n",
       "      <td>60.00</td>\n",
       "      <td>Tuesday</td>\n",
       "      <td>09:24:00</td>\n",
       "      <td>12</td>\n",
       "      <td>Winter</td>\n",
       "    </tr>\n",
       "    <tr>\n",
       "      <th>58</th>\n",
       "      <td>489438</td>\n",
       "      <td>20711</td>\n",
       "      <td>JUMBO BAG TOYS</td>\n",
       "      <td>60</td>\n",
       "      <td>2009-12-01 09:24:00</td>\n",
       "      <td>1.30</td>\n",
       "      <td>18102.0</td>\n",
       "      <td>United Kingdom</td>\n",
       "      <td>2009-12</td>\n",
       "      <td>78.00</td>\n",
       "      <td>Tuesday</td>\n",
       "      <td>09:24:00</td>\n",
       "      <td>12</td>\n",
       "      <td>Winter</td>\n",
       "    </tr>\n",
       "    <tr>\n",
       "      <th>...</th>\n",
       "      <td>...</td>\n",
       "      <td>...</td>\n",
       "      <td>...</td>\n",
       "      <td>...</td>\n",
       "      <td>...</td>\n",
       "      <td>...</td>\n",
       "      <td>...</td>\n",
       "      <td>...</td>\n",
       "      <td>...</td>\n",
       "      <td>...</td>\n",
       "      <td>...</td>\n",
       "      <td>...</td>\n",
       "      <td>...</td>\n",
       "      <td>...</td>\n",
       "    </tr>\n",
       "    <tr>\n",
       "      <th>519376</th>\n",
       "      <td>537659</td>\n",
       "      <td>21623</td>\n",
       "      <td>VINTAGE UNION JACK MEMOBOARD</td>\n",
       "      <td>600</td>\n",
       "      <td>2010-12-07 16:43:00</td>\n",
       "      <td>6.38</td>\n",
       "      <td>18102.0</td>\n",
       "      <td>United Kingdom</td>\n",
       "      <td>2010-12</td>\n",
       "      <td>3828.00</td>\n",
       "      <td>Tuesday</td>\n",
       "      <td>16:43:00</td>\n",
       "      <td>12</td>\n",
       "      <td>Winter</td>\n",
       "    </tr>\n",
       "    <tr>\n",
       "      <th>519377</th>\n",
       "      <td>537659</td>\n",
       "      <td>85064</td>\n",
       "      <td>CREAM SWEETHEART LETTER RACK</td>\n",
       "      <td>160</td>\n",
       "      <td>2010-12-07 16:43:00</td>\n",
       "      <td>3.88</td>\n",
       "      <td>18102.0</td>\n",
       "      <td>United Kingdom</td>\n",
       "      <td>2010-12</td>\n",
       "      <td>620.80</td>\n",
       "      <td>Tuesday</td>\n",
       "      <td>16:43:00</td>\n",
       "      <td>12</td>\n",
       "      <td>Winter</td>\n",
       "    </tr>\n",
       "    <tr>\n",
       "      <th>519378</th>\n",
       "      <td>537659</td>\n",
       "      <td>82484</td>\n",
       "      <td>WOOD BLACK BOARD ANT WHITE FINISH</td>\n",
       "      <td>600</td>\n",
       "      <td>2010-12-07 16:43:00</td>\n",
       "      <td>4.78</td>\n",
       "      <td>18102.0</td>\n",
       "      <td>United Kingdom</td>\n",
       "      <td>2010-12</td>\n",
       "      <td>2868.00</td>\n",
       "      <td>Tuesday</td>\n",
       "      <td>16:43:00</td>\n",
       "      <td>12</td>\n",
       "      <td>Winter</td>\n",
       "    </tr>\n",
       "    <tr>\n",
       "      <th>519379</th>\n",
       "      <td>537659</td>\n",
       "      <td>22833</td>\n",
       "      <td>HALL CABINET WITH 3 DRAWERS</td>\n",
       "      <td>72</td>\n",
       "      <td>2010-12-07 16:43:00</td>\n",
       "      <td>32.69</td>\n",
       "      <td>18102.0</td>\n",
       "      <td>United Kingdom</td>\n",
       "      <td>2010-12</td>\n",
       "      <td>2353.68</td>\n",
       "      <td>Tuesday</td>\n",
       "      <td>16:43:00</td>\n",
       "      <td>12</td>\n",
       "      <td>Winter</td>\n",
       "    </tr>\n",
       "    <tr>\n",
       "      <th>523466</th>\n",
       "      <td>538063</td>\n",
       "      <td>22830</td>\n",
       "      <td>UTILTY CABINET WITH HOOKS</td>\n",
       "      <td>96</td>\n",
       "      <td>2010-12-09 13:44:00</td>\n",
       "      <td>19.94</td>\n",
       "      <td>18102.0</td>\n",
       "      <td>United Kingdom</td>\n",
       "      <td>2010-12</td>\n",
       "      <td>1914.24</td>\n",
       "      <td>Thursday</td>\n",
       "      <td>13:44:00</td>\n",
       "      <td>12</td>\n",
       "      <td>Winter</td>\n",
       "    </tr>\n",
       "  </tbody>\n",
       "</table>\n",
       "<p>1539 rows × 14 columns</p>\n",
       "</div>"
      ],
      "text/plain": [
       "       Invoice StockCode                        Description  Quantity  \\\n",
       "54      489438     21329            DINOSAURS  WRITING SET         28   \n",
       "55      489438     21252     SET OF MEADOW  FLOWER STICKERS        30   \n",
       "56      489438     21100     CHARLIE AND LOLA CHARLOTTE BAG        30   \n",
       "57      489438     21033    JUMBO BAG CHARLIE AND LOLA TOYS        30   \n",
       "58      489438     20711                    JUMBO BAG TOYS         60   \n",
       "...        ...       ...                                ...       ...   \n",
       "519376  537659     21623       VINTAGE UNION JACK MEMOBOARD       600   \n",
       "519377  537659     85064       CREAM SWEETHEART LETTER RACK       160   \n",
       "519378  537659     82484  WOOD BLACK BOARD ANT WHITE FINISH       600   \n",
       "519379  537659     22833        HALL CABINET WITH 3 DRAWERS        72   \n",
       "523466  538063     22830          UTILTY CABINET WITH HOOKS        96   \n",
       "\n",
       "               InvoiceDate  Price  Customer ID         Country YearMonth  \\\n",
       "54     2009-12-01 09:24:00   0.98      18102.0  United Kingdom   2009-12   \n",
       "55     2009-12-01 09:24:00   1.69      18102.0  United Kingdom   2009-12   \n",
       "56     2009-12-01 09:24:00   1.15      18102.0  United Kingdom   2009-12   \n",
       "57     2009-12-01 09:24:00   2.00      18102.0  United Kingdom   2009-12   \n",
       "58     2009-12-01 09:24:00   1.30      18102.0  United Kingdom   2009-12   \n",
       "...                    ...    ...          ...             ...       ...   \n",
       "519376 2010-12-07 16:43:00   6.38      18102.0  United Kingdom   2010-12   \n",
       "519377 2010-12-07 16:43:00   3.88      18102.0  United Kingdom   2010-12   \n",
       "519378 2010-12-07 16:43:00   4.78      18102.0  United Kingdom   2010-12   \n",
       "519379 2010-12-07 16:43:00  32.69      18102.0  United Kingdom   2010-12   \n",
       "523466 2010-12-09 13:44:00  19.94      18102.0  United Kingdom   2010-12   \n",
       "\n",
       "        Total Income Data of Week      Time  Month  Season  \n",
       "54             27.44      Tuesday  09:24:00     12  Winter  \n",
       "55             50.70      Tuesday  09:24:00     12  Winter  \n",
       "56             34.50      Tuesday  09:24:00     12  Winter  \n",
       "57             60.00      Tuesday  09:24:00     12  Winter  \n",
       "58             78.00      Tuesday  09:24:00     12  Winter  \n",
       "...              ...          ...       ...    ...     ...  \n",
       "519376       3828.00      Tuesday  16:43:00     12  Winter  \n",
       "519377        620.80      Tuesday  16:43:00     12  Winter  \n",
       "519378       2868.00      Tuesday  16:43:00     12  Winter  \n",
       "519379       2353.68      Tuesday  16:43:00     12  Winter  \n",
       "523466       1914.24     Thursday  13:44:00     12  Winter  \n",
       "\n",
       "[1539 rows x 14 columns]"
      ]
     },
     "execution_count": 54,
     "metadata": {},
     "output_type": "execute_result"
    }
   ],
   "source": [
    "df[df['Customer ID'] == 18102.0]"
   ]
  },
  {
   "cell_type": "markdown",
   "id": "dc08b80d-d16f-4001-a9ea-705474a550f7",
   "metadata": {},
   "source": [
    "<h3>18) Average order quantity of customers in different countries</h3>"
   ]
  },
  {
   "cell_type": "code",
   "execution_count": 55,
   "id": "cae13739-04d4-49f0-9cab-348a55cfa330",
   "metadata": {},
   "outputs": [],
   "source": [
    "top_countries = df.groupby('Country')[['Total Income']].mean().sort_values(by = 'Total Income' , ascending = False)"
   ]
  },
  {
   "cell_type": "code",
   "execution_count": 56,
   "id": "2a0474ff-40ae-4d4e-99b4-5b66db73216a",
   "metadata": {},
   "outputs": [
    {
     "data": {
      "text/html": [
       "<div>\n",
       "<style scoped>\n",
       "    .dataframe tbody tr th:only-of-type {\n",
       "        vertical-align: middle;\n",
       "    }\n",
       "\n",
       "    .dataframe tbody tr th {\n",
       "        vertical-align: top;\n",
       "    }\n",
       "\n",
       "    .dataframe thead th {\n",
       "        text-align: right;\n",
       "    }\n",
       "</style>\n",
       "<table border=\"1\" class=\"dataframe\">\n",
       "  <thead>\n",
       "    <tr style=\"text-align: right;\">\n",
       "      <th></th>\n",
       "      <th>Total Income</th>\n",
       "    </tr>\n",
       "    <tr>\n",
       "      <th>Country</th>\n",
       "      <th></th>\n",
       "    </tr>\n",
       "  </thead>\n",
       "  <tbody>\n",
       "    <tr>\n",
       "      <th>Denmark</th>\n",
       "      <td>109.749883</td>\n",
       "    </tr>\n",
       "    <tr>\n",
       "      <th>Netherlands</th>\n",
       "      <td>95.291950</td>\n",
       "    </tr>\n",
       "    <tr>\n",
       "      <th>Sweden</th>\n",
       "      <td>56.777727</td>\n",
       "    </tr>\n",
       "    <tr>\n",
       "      <th>Hong Kong</th>\n",
       "      <td>51.608684</td>\n",
       "    </tr>\n",
       "    <tr>\n",
       "      <th>Australia</th>\n",
       "      <td>45.950765</td>\n",
       "    </tr>\n",
       "    <tr>\n",
       "      <th>Israel</th>\n",
       "      <td>43.235135</td>\n",
       "    </tr>\n",
       "    <tr>\n",
       "      <th>Thailand</th>\n",
       "      <td>40.401842</td>\n",
       "    </tr>\n",
       "    <tr>\n",
       "      <th>Japan</th>\n",
       "      <td>37.660536</td>\n",
       "    </tr>\n",
       "    <tr>\n",
       "      <th>Bermuda</th>\n",
       "      <td>36.857059</td>\n",
       "    </tr>\n",
       "    <tr>\n",
       "      <th>Switzerland</th>\n",
       "      <td>36.515088</td>\n",
       "    </tr>\n",
       "    <tr>\n",
       "      <th>EIRE</th>\n",
       "      <td>36.426342</td>\n",
       "    </tr>\n",
       "    <tr>\n",
       "      <th>Singapore</th>\n",
       "      <td>34.510855</td>\n",
       "    </tr>\n",
       "    <tr>\n",
       "      <th>Lithuania</th>\n",
       "      <td>31.770649</td>\n",
       "    </tr>\n",
       "    <tr>\n",
       "      <th>Spain</th>\n",
       "      <td>29.017919</td>\n",
       "    </tr>\n",
       "    <tr>\n",
       "      <th>Greece</th>\n",
       "      <td>27.630503</td>\n",
       "    </tr>\n",
       "    <tr>\n",
       "      <th>Austria</th>\n",
       "      <td>24.251918</td>\n",
       "    </tr>\n",
       "    <tr>\n",
       "      <th>Germany</th>\n",
       "      <td>24.146925</td>\n",
       "    </tr>\n",
       "    <tr>\n",
       "      <th>Channel Islands</th>\n",
       "      <td>23.584238</td>\n",
       "    </tr>\n",
       "    <tr>\n",
       "      <th>France</th>\n",
       "      <td>22.655908</td>\n",
       "    </tr>\n",
       "    <tr>\n",
       "      <th>Bahrain</th>\n",
       "      <td>21.618224</td>\n",
       "    </tr>\n",
       "    <tr>\n",
       "      <th>Portugal</th>\n",
       "      <td>21.589264</td>\n",
       "    </tr>\n",
       "    <tr>\n",
       "      <th>Belgium</th>\n",
       "      <td>21.502400</td>\n",
       "    </tr>\n",
       "    <tr>\n",
       "      <th>RSA</th>\n",
       "      <td>21.321802</td>\n",
       "    </tr>\n",
       "    <tr>\n",
       "      <th>Finland</th>\n",
       "      <td>20.304266</td>\n",
       "    </tr>\n",
       "    <tr>\n",
       "      <th>Cyprus</th>\n",
       "      <td>20.246300</td>\n",
       "    </tr>\n",
       "    <tr>\n",
       "      <th>Italy</th>\n",
       "      <td>18.862982</td>\n",
       "    </tr>\n",
       "    <tr>\n",
       "      <th>USA</th>\n",
       "      <td>18.670574</td>\n",
       "    </tr>\n",
       "    <tr>\n",
       "      <th>Iceland</th>\n",
       "      <td>18.638310</td>\n",
       "    </tr>\n",
       "    <tr>\n",
       "      <th>United Arab Emirates</th>\n",
       "      <td>18.625856</td>\n",
       "    </tr>\n",
       "    <tr>\n",
       "      <th>Poland</th>\n",
       "      <td>17.087371</td>\n",
       "    </tr>\n",
       "    <tr>\n",
       "      <th>United Kingdom</th>\n",
       "      <td>16.866819</td>\n",
       "    </tr>\n",
       "    <tr>\n",
       "      <th>Unspecified</th>\n",
       "      <td>15.927516</td>\n",
       "    </tr>\n",
       "    <tr>\n",
       "      <th>Canada</th>\n",
       "      <td>15.800779</td>\n",
       "    </tr>\n",
       "    <tr>\n",
       "      <th>Malta</th>\n",
       "      <td>15.620640</td>\n",
       "    </tr>\n",
       "    <tr>\n",
       "      <th>Korea</th>\n",
       "      <td>15.076508</td>\n",
       "    </tr>\n",
       "    <tr>\n",
       "      <th>Lebanon</th>\n",
       "      <td>13.233077</td>\n",
       "    </tr>\n",
       "    <tr>\n",
       "      <th>Norway</th>\n",
       "      <td>11.055745</td>\n",
       "    </tr>\n",
       "    <tr>\n",
       "      <th>West Indies</th>\n",
       "      <td>9.933519</td>\n",
       "    </tr>\n",
       "    <tr>\n",
       "      <th>Brazil</th>\n",
       "      <td>4.326935</td>\n",
       "    </tr>\n",
       "    <tr>\n",
       "      <th>Nigeria</th>\n",
       "      <td>-0.208125</td>\n",
       "    </tr>\n",
       "  </tbody>\n",
       "</table>\n",
       "</div>"
      ],
      "text/plain": [
       "                      Total Income\n",
       "Country                           \n",
       "Denmark                 109.749883\n",
       "Netherlands              95.291950\n",
       "Sweden                   56.777727\n",
       "Hong Kong                51.608684\n",
       "Australia                45.950765\n",
       "Israel                   43.235135\n",
       "Thailand                 40.401842\n",
       "Japan                    37.660536\n",
       "Bermuda                  36.857059\n",
       "Switzerland              36.515088\n",
       "EIRE                     36.426342\n",
       "Singapore                34.510855\n",
       "Lithuania                31.770649\n",
       "Spain                    29.017919\n",
       "Greece                   27.630503\n",
       "Austria                  24.251918\n",
       "Germany                  24.146925\n",
       "Channel Islands          23.584238\n",
       "France                   22.655908\n",
       "Bahrain                  21.618224\n",
       "Portugal                 21.589264\n",
       "Belgium                  21.502400\n",
       "RSA                      21.321802\n",
       "Finland                  20.304266\n",
       "Cyprus                   20.246300\n",
       "Italy                    18.862982\n",
       "USA                      18.670574\n",
       "Iceland                  18.638310\n",
       "United Arab Emirates     18.625856\n",
       "Poland                   17.087371\n",
       "United Kingdom           16.866819\n",
       "Unspecified              15.927516\n",
       "Canada                   15.800779\n",
       "Malta                    15.620640\n",
       "Korea                    15.076508\n",
       "Lebanon                  13.233077\n",
       "Norway                   11.055745\n",
       "West Indies               9.933519\n",
       "Brazil                    4.326935\n",
       "Nigeria                  -0.208125"
      ]
     },
     "execution_count": 56,
     "metadata": {},
     "output_type": "execute_result"
    }
   ],
   "source": [
    "top_countries"
   ]
  },
  {
   "cell_type": "markdown",
   "id": "177cb5ed",
   "metadata": {},
   "source": [
    "<h4>Top 10 Countries with Highest Average Order Quantity</h4>"
   ]
  },
  {
   "cell_type": "code",
   "execution_count": 57,
   "id": "f7bc6d8c-1ad2-42e8-a224-597848af07ab",
   "metadata": {},
   "outputs": [],
   "source": [
    "top_countries = df.groupby('Country')[['Total Income']].mean().sort_values(by = 'Total Income' , ascending = False).head(10)"
   ]
  },
  {
   "cell_type": "code",
   "execution_count": 58,
   "id": "499d0641-12a0-4acb-860a-db6c820c50dd",
   "metadata": {},
   "outputs": [
    {
     "data": {
      "text/plain": [
       "<Figure size 1200x600 with 0 Axes>"
      ]
     },
     "metadata": {},
     "output_type": "display_data"
    },
    {
     "data": {
      "image/png": "[encoded data removed]",
      "text/plain": [
       "<Figure size 640x480 with 1 Axes>"
      ]
     },
     "metadata": {},
     "output_type": "display_data"
    }
   ],
   "source": [
    "plt.figure(figsize=(12, 6))\n",
    "top_countries.plot ( kind = 'bar' , color = ['#4a235a'])\n",
    "plt.xlabel('Country',fontsize = 13)\n",
    "plt.ylabel('Average Order Quantity', fontsize=13)\n",
    "plt.title('Top 10 Countries with Highest Average Order Quantity', fontsize=14)\n",
    "plt.tight_layout()\n",
    "plt.show()\n"
   ]
  },
  {
   "cell_type": "markdown",
   "id": "6a1ad740-4c5d-473c-95e9-0529e203d693",
   "metadata": {},
   "source": [
    "<h3>19) What products sell the most at what time of year?</h3>"
   ]
  },
  {
   "cell_type": "code",
   "execution_count": 59,
   "id": "f6d0592d-35ac-4478-8898-99d9763654f0",
   "metadata": {},
   "outputs": [
    {
     "data": {
      "text/html": [
       "<div>\n",
       "<style scoped>\n",
       "    .dataframe tbody tr th:only-of-type {\n",
       "        vertical-align: middle;\n",
       "    }\n",
       "\n",
       "    .dataframe tbody tr th {\n",
       "        vertical-align: top;\n",
       "    }\n",
       "\n",
       "    .dataframe thead th {\n",
       "        text-align: right;\n",
       "    }\n",
       "</style>\n",
       "<table border=\"1\" class=\"dataframe\">\n",
       "  <thead>\n",
       "    <tr style=\"text-align: right;\">\n",
       "      <th></th>\n",
       "      <th>Total Income</th>\n",
       "    </tr>\n",
       "    <tr>\n",
       "      <th>Season</th>\n",
       "      <th></th>\n",
       "    </tr>\n",
       "  </thead>\n",
       "  <tbody>\n",
       "    <tr>\n",
       "      <th>Autumn (Fall)</th>\n",
       "      <td>3321473.423</td>\n",
       "    </tr>\n",
       "  </tbody>\n",
       "</table>\n",
       "</div>"
      ],
      "text/plain": [
       "               Total Income\n",
       "Season                     \n",
       "Autumn (Fall)   3321473.423"
      ]
     },
     "execution_count": 59,
     "metadata": {},
     "output_type": "execute_result"
    }
   ],
   "source": [
    "df.groupby('Season')[['Total Income']].sum().sort_values(by= 'Total Income' , ascending = False).head(1)"
   ]
  },
  {
   "cell_type": "markdown",
   "id": "68b52af5-141b-4f77-99b9-3fd69758e3f6",
   "metadata": {},
   "source": [
    "------------------------------------------------------------------------"
   ]
  }
 ],
 "metadata": {
  "kernelspec": {
   "display_name": "base",
   "language": "python",
   "name": "python3"
  },
  "language_info": {
   "codemirror_mode": {
    "name": "ipython",
    "version": 3
   },
   "file_extension": ".py",
   "mimetype": "text/x-python",
   "name": "python",
   "nbconvert_exporter": "python",
   "pygments_lexer": "ipython3",
   "version": "3.11.7"
  }
 },
 "nbformat": 4,
 "nbformat_minor": 5
}
